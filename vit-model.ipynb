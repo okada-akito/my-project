{
 "cells": [
  {
   "cell_type": "markdown",
   "metadata": {},
   "source": [
    "## (1)ライブラリのインポート"
   ]
  },
  {
   "cell_type": "code",
   "execution_count": 14,
   "metadata": {},
   "outputs": [],
   "source": [
    "import torch \n",
    "import torch.nn as nn \n",
    "import torch.optim as optim\n",
    "import torchvision\n",
    "import torchvision.transforms as transforms \n",
    "from torch.utils.data import DataLoader, Dataset\n",
    "from torch.utils.data.dataset import random_split\n",
    "from torchvision.datasets import ImageFolder # 【追加】 画像データセットを提供するモジュール\n",
    "from torchvision import models # 【追加】 事前学習済みモデルや一般的なモデルアーキテクチャを含むモジュール"
   ]
  },
  {
   "cell_type": "markdown",
   "metadata": {},
   "source": [
    "## (2)データの前処理"
   ]
  },
  {
   "cell_type": "code",
   "execution_count": 15,
   "metadata": {},
   "outputs": [],
   "source": [
    "# (2-D) データの前処理\n",
    "data_transform = {\n",
    "    'train': transforms.Compose([ \n",
    "        transforms.Resize((224, 224)), \n",
    "        transforms.RandomHorizontalFlip(), \n",
    "        transforms.RandomRotation(10), \n",
    "        transforms.ToTensor(), \n",
    "        transforms.Normalize([0.485, 0.456, 0.406], [0.229, 0.224, 0.225]) # ImageNetデータセットの平均と標準偏差を使用\n",
    "\n",
    "    ]),\n",
    "    'val': transforms.Compose([ \n",
    "        transforms.Resize((224, 224)),\n",
    "        transforms.ToTensor(),\n",
    "        transforms.Normalize([0.485, 0.456, 0.406], [0.229, 0.224, 0.225]) # ImageNetデータセットの平均と標準偏差を使用、検証データに対しても同様に正規化を行う。理由は、学習時と同じ前処理を行うことで、モデルの性能を正確に評価するため。\n",
    "    ]),\n",
    "    'test': transforms.Compose([\n",
    "        transforms.Resize((224, 224)),\n",
    "        transforms.ToTensor(),\n",
    "        transforms.Normalize([0.485, 0.456, 0.406], [0.229, 0.224, 0.225])  # ImageNetの平均と標準偏差を使用\n",
    "    ]),\n",
    "}"
   ]
  },
  {
   "cell_type": "markdown",
   "metadata": {},
   "source": [
    "## (3)データセットの用意"
   ]
  },
  {
   "cell_type": "code",
   "execution_count": null,
   "metadata": {},
   "outputs": [],
   "source": [
    "full_dataset = ImageFolder(root='Dataset-name')\n",
    "\n",
    "# データセットを70%訓練、15%検証、15%テストに分割\n",
    "train_size = int(0.7 * len(full_dataset))\n",
    "val_size = int(0.15 * len(full_dataset))\n",
    "test_size = len(full_dataset) - train_size - val_size\n",
    "train_dataset, val_dataset, test_dataset = random_split(\n",
    "    full_dataset, [train_size, val_size, test_size]\n",
    ")\n",
    "\n",
    "# 各データセットに適切な変換を適用するためのラッパークラスを定義\n",
    "class CustomDataset(torch.utils.data.Dataset):\n",
    "    def __init__(self, subset, transform):\n",
    "        self.subset = subset  # Subsetオブジェクト\n",
    "        self.transform = transform  # 適用する変換\n",
    "\n",
    "    def __getitem__(self, index):\n",
    "        image, label = self.subset[index]  # 画像とラベルを取得\n",
    "        if self.transform:\n",
    "            image = self.transform(image)  # 変換を適用\n",
    "        return image, label\n",
    "\n",
    "    def __len__(self):\n",
    "        return len(self.subset)\n",
    "    \n",
    "# それぞれのデータセットに対応する変換を適用（ここで初めてデータを前処理する）\n",
    "train_dataset = CustomDataset(train_dataset, transform=data_transform['train'])\n",
    "val_dataset = CustomDataset(val_dataset, transform=data_transform['val'])\n",
    "test_dataset = CustomDataset(test_dataset, transform=data_transform['val'])"
   ]
  },
  {
   "cell_type": "markdown",
   "metadata": {},
   "source": [
    "## (4) データローダーの作成"
   ]
  },
  {
   "cell_type": "code",
   "execution_count": 17,
   "metadata": {},
   "outputs": [],
   "source": [
    "BATCH_SIZE = 64  # ミニバッチサイズを設定、データセットのサイズによって自分で設定する\n",
    "train_loader = DataLoader(train_dataset, batch_size=BATCH_SIZE, shuffle=True)\n",
    "val_loader = DataLoader(val_dataset, batch_size=BATCH_SIZE, shuffle=False)\n",
    "test_loader = DataLoader(test_dataset, batch_size=BATCH_SIZE, shuffle=False)\n"
   ]
  },
  {
   "cell_type": "markdown",
   "metadata": {},
   "source": [
    "## (5) ハードウェアの設定"
   ]
  },
  {
   "cell_type": "code",
   "execution_count": 18,
   "metadata": {},
   "outputs": [],
   "source": [
    "# ハードウェアの設定 \n",
    "device = torch.device('mps')"
   ]
  },
  {
   "cell_type": "markdown",
   "metadata": {},
   "source": [
    "## (6) 入力データのテンソル形状の確認"
   ]
  },
  {
   "cell_type": "code",
   "execution_count": null,
   "metadata": {},
   "outputs": [],
   "source": [
    "# ニューラルネットワークに入力する画像のサイズ、チャネル数をチェック\n",
    "images, labels = next(iter(train_loader))\n",
    "c, h, w = images[0].shape\n",
    "print(\"ミニバッチサイズ: \", images.size())\n",
    "print(\"画像のチャネル数: \", c)\n",
    "print(\"画像の高さ: \", h)\n",
    "print(\"画像の幅: \", w)\n",
    "\n",
    "# グリッド乗に4枚の画像を表示\n",
    "img = torchvision.utils.make_grid(images[:4])\n",
    "img = transforms.functional.to_pil_image(img)\n",
    "display(img)\n",
    "\n",
    "# 上の画像に対応するラベルを表示\n",
    "print(labels[:4])\n"
   ]
  },
  {
   "cell_type": "markdown",
   "metadata": {},
   "source": [
    "## (7) ネットワーク構成の定義"
   ]
  },
  {
   "cell_type": "code",
   "execution_count": null,
   "metadata": {},
   "outputs": [],
   "source": [
    "# ニューラルネットワークに入力する画像のサイズと分類するクラス数を定義\n",
    "INPUT_CHANNELS = c\n",
    "OUTPUT_SIZE = 10  # 分類するクラス数\n",
    "\n",
    "model = torchvision.models.mobilenet_v2(weights=\"IMAGENET1K_V1\")\n",
    "\n",
    "# 最終層の出力ユニット数を変更\n",
    "num_features = model.classifier[1].in_features\n",
    "model.classifier[1] = nn.Linear(num_features, OUTPUT_SIZE)\n",
    "\n",
    "# モデルをデバイスに転送\n",
    "model = model.to(device)\n",
    "model"
   ]
  },
  {
   "cell_type": "markdown",
   "metadata": {},
   "source": [
    "## (8) 損失関数の定義"
   ]
  },
  {
   "cell_type": "code",
   "execution_count": 21,
   "metadata": {},
   "outputs": [],
   "source": [
    "# 多クラス分類のための損失関数を定義\n",
    "criterion = nn.CrossEntropyLoss()"
   ]
  },
  {
   "cell_type": "markdown",
   "metadata": {},
   "source": [
    "## (9) 最適化関数の定義"
   ]
  },
  {
   "cell_type": "code",
   "execution_count": 22,
   "metadata": {},
   "outputs": [],
   "source": [
    "# Adam, weight_decayで化学集対策\n",
    "optimizer = optim.Adam(model.parameters(), lr=0.001, weight_decay=0.001)\n",
    "scheduler = torch.optim.lr_scheduler.StepLR(optimizer, step_size=10, gamma=0.1)"
   ]
  },
  {
   "cell_type": "markdown",
   "metadata": {},
   "source": [
    "## (10) モデル学習＆検証"
   ]
  },
  {
   "cell_type": "code",
   "execution_count": null,
   "metadata": {},
   "outputs": [],
   "source": [
    "from tqdm import tqdm  # tqdmをインポート\n",
    "\n",
    "# モデルの学習\n",
    "EPOCHS = 10\n",
    "train_loss_list = []  # 訓練データの損失リスト\n",
    "val_loss_list = []    # 検証データの損失リスト\n",
    "train_acc_list = []   # 訓練データの精度リスト\n",
    "val_acc_list = []     # 検証データの精度リスト\n",
    "\n",
    "for epoch in range(EPOCHS):\n",
    "    model.train()  # モデルを学習モードに設定\n",
    "    train_loss = 0.0\n",
    "    train_correct = 0\n",
    "    train_total = 0\n",
    "\n",
    "    # 訓練データのループにtqdmを追加\n",
    "    for images, labels in tqdm(train_loader, desc=f'Epoch {epoch+1}/{EPOCHS} [訓練]', leave=False):\n",
    "        images, labels = images.to(device), labels.to(device)  # データをデバイスに転送\n",
    "        optimizer.zero_grad()  # 勾配を初期化\n",
    "\n",
    "        outputs = model(images)  # モデルの出力を取得\n",
    "        loss = criterion(outputs, labels)  # 損失を計算\n",
    "\n",
    "        loss.backward()  # 逆伝播\n",
    "        optimizer.step()  # パラメータを更新\n",
    "\n",
    "        train_loss += loss.item() * images.size(0)  # 損失を蓄積（バッチサイズで重み付け）\n",
    "\n",
    "        # 正解数を計算\n",
    "        _, predicted = torch.max(outputs.data, 1)\n",
    "        train_total += labels.size(0)\n",
    "        train_correct += (predicted == labels).sum().item()\n",
    "\n",
    "    train_loss /= train_total  # データ数で割って平均を取る\n",
    "    train_accuracy = 100 * train_correct / train_total  # 訓練データの精度計算\n",
    "    train_loss_list.append(train_loss)  # 訓練損失をリストに追加\n",
    "    train_acc_list.append(train_accuracy)  # 訓練精度をリストに追加\n",
    "\n",
    "    model.eval()  # モデルを評価モードに設定\n",
    "    val_loss = 0.0\n",
    "    val_correct = 0\n",
    "    val_total = 0\n",
    "\n",
    "    with torch.no_grad():\n",
    "        # 検証データのループにtqdmを追加\n",
    "        for images, labels in tqdm(val_loader, desc=f'Epoch {epoch+1}/{EPOCHS} [検証]', leave=False):\n",
    "            images, labels = images.to(device), labels.to(device)  # データをデバイスに転送\n",
    "\n",
    "            outputs = model(images)  # モデルの出力を取得\n",
    "            loss = criterion(outputs, labels)  # 損失を計算\n",
    "\n",
    "            val_loss += loss.item() * images.size(0)  # 損失を蓄積（バッチサイズで重み付け）\n",
    "\n",
    "            # 正解数を計算\n",
    "            _, predicted = torch.max(outputs.data, 1)\n",
    "            val_total += labels.size(0)\n",
    "            val_correct += (predicted == labels).sum().item()\n",
    "\n",
    "    val_loss /= val_total  # データ数で割って平均を取る\n",
    "    val_accuracy = 100 * val_correct / val_total  # 検証データの精度計算\n",
    "    val_loss_list.append(val_loss)  # 検証損失をリストに追加\n",
    "    val_acc_list.append(val_accuracy)  # 検証精度をリストに追加\n",
    "\n",
    "    # エポックごとの結果を表示\n",
    "    print(f'Epoch {epoch+1}/{EPOCHS}, '\n",
    "          f'Train Loss: {train_loss:.4f}, Train Acc: {train_accuracy:.2f}%, '\n",
    "          f'Val Loss: {val_loss:.4f}, Val Acc: {val_accuracy:.2f}%')"
   ]
  },
  {
   "cell_type": "markdown",
   "metadata": {},
   "source": [
    "## (11) モデル学習結果表示"
   ]
  },
  {
   "cell_type": "code",
   "execution_count": null,
   "metadata": {},
   "outputs": [],
   "source": [
    "from sklearn.metrics import confusion_matrix, classification_report\n",
    "import seaborn as sns\n",
    "import matplotlib.pyplot as plt\n",
    "\n",
    "# 検証データでの推論\n",
    "model.eval()\n",
    "all_preds = []\n",
    "all_labels = []\n",
    "with torch.no_grad():\n",
    "    for inputs, labels in val_loader:  # val_loader: 検証データのDataLoader\n",
    "        inputs, labels = inputs.to(device), labels.to(device)\n",
    "        outputs = model(inputs)\n",
    "        _, preds = torch.max(outputs, 1)\n",
    "        all_preds.extend(preds.cpu().numpy())\n",
    "        all_labels.extend(labels.cpu().numpy())\n",
    "\n",
    "# クラス名とラベルを一致させる\n",
    "unique_labels = sorted(set(all_labels))  # 出現するクラスラベルを取得\n",
    "if 'class_names' not in globals() or len(class_names) != len(unique_labels):\n",
    "    class_names = [f\"Class {i}\" for i in unique_labels]  # 自動生成（例: \"Class 0\", \"Class 1\", ...）\n",
    "\n",
    "# 混同行列の作成\n",
    "cm = confusion_matrix(all_labels, all_preds)\n",
    "print(\"Confusion Matrix:\")\n",
    "print(cm)\n",
    "\n",
    "# 混同行列の可視化\n",
    "plt.figure(figsize=(8, 6))\n",
    "sns.heatmap(cm, annot=True, fmt='d', cmap='Blues', xticklabels=class_names, yticklabels=class_names)\n",
    "plt.xlabel(\"Predicted\")\n",
    "plt.ylabel(\"Actual\")\n",
    "plt.title(\"Confusion Matrix\")\n",
    "plt.show()\n",
    "\n",
    "# Precision, Recall, F1スコアのレポート\n",
    "report = classification_report(all_labels, all_preds, target_names=class_names)\n",
    "print(\"Classification Report:\")\n",
    "print(report)\n"
   ]
  },
  {
   "cell_type": "markdown",
   "metadata": {},
   "source": [
    "## (12) テストデータを用いてモデルの性能を評価し、正解率を算出"
   ]
  },
  {
   "cell_type": "code",
   "execution_count": null,
   "metadata": {},
   "outputs": [],
   "source": [
    "# モデルの評価\n",
    "model.eval() # モデルを評価モードに設定\n",
    "correct = 0 # 正解数\n",
    "total = 0 # テストデータの総数\n",
    "with torch.no_grad():\n",
    "    for images, labels in test_loader: # テストデータを取得\n",
    "        images, labels = images.to(device), labels.to(device) # データをハードウェアに転送\n",
    "        outputs = model(images) # 画像をモデルに入力して出力を取得\n",
    "        _, predicted = torch.max(outputs, 1) # 確率が最大のラベルを取得=モデルによる予測結果を取得\n",
    "        total += labels.size(0) # labels.size(0)はミニバッチサイズ、毎回加算することでテストデータの総数を計算\n",
    "        correct += (predicted == labels).sum().item() # 予測と正解ラベルが一致した場合に正解数をカウント\n",
    "# 正解率を%で表示\n",
    "print(f'Accuracy: {correct / total * 100:.2f}%')"
   ]
  },
  {
   "cell_type": "markdown",
   "metadata": {},
   "source": [
    "## (13) モデルパラメータのファイル保存"
   ]
  },
  {
   "cell_type": "code",
   "execution_count": null,
   "metadata": {},
   "outputs": [],
   "source": [
    "# 学習済みの重みを保存\n",
    "# model.state_dict(): モデルの重みを格納したオブジェクト\n",
    "torch.save(model.state_dict(), \"model.pth\")"
   ]
  }
 ],
 "metadata": {
  "kernelspec": {
   "display_name": "Python 3",
   "language": "python",
   "name": "python3"
  },
  "language_info": {
   "codemirror_mode": {
    "name": "ipython",
    "version": 3
   },
   "file_extension": ".py",
   "mimetype": "text/x-python",
   "name": "python",
   "nbconvert_exporter": "python",
   "pygments_lexer": "ipython3",
   "version": "3.12.6"
  }
 },
 "nbformat": 4,
 "nbformat_minor": 2
}
